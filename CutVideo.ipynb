{
  "cells": [
    {
      "cell_type": "code",
      "execution_count": null,
      "metadata": {
        "colab": {
          "base_uri": "https://localhost:8080/"
        },
        "id": "BQJNb7igXD-n",
        "outputId": "667ed4f5-15d0-4d01-941c-2805487e8421"
      },
      "outputs": [],
      "source": [
        "from google.colab import drive\n",
        "drive.mount('/content/grive')"
      ]
    },
    {
      "cell_type": "code",
      "execution_count": null,
      "metadata": {
        "id": "97R2z9Qa0mC-"
      },
      "outputs": [],
      "source": [
        "from google.colab.patches import cv2_imshow\n",
        "import cv2"
      ]
    },
    {
      "cell_type": "code",
      "execution_count": null,
      "metadata": {
        "colab": {
          "base_uri": "https://localhost:8080/",
          "height": 1000
        },
        "id": "VN0NH_YXzWRo",
        "outputId": "bffc8045-9012-4043-8f05-cca99e71b70d"
      },
      "outputs": [],
      "source": [
        "video_file = \"/content/grive/MyDrive/dataset/video/video2.mp4\"\n",
        "count = 0\n",
        "cap = cv2.VideoCapture(video_file)\n",
        "fps = cap.get(cv2.CAP_PROP_FPS)\n",
        "while True:\n",
        "        is_read, frame = cap.read()\n",
        "        if not is_read:\n",
        "            # break out of the loop if there are no frames to read\n",
        "            break\n",
        "        \n",
        "        if count % fps == 0:\n",
        "            cv2_imshow(frame)\n",
        "        # increment the frame count\n",
        "        count += 1\n"
      ]
    }
  ],
  "metadata": {
    "colab": {
      "name": "CutVideo.ipynb",
      "provenance": []
    },
    "kernelspec": {
      "display_name": "Python 3",
      "name": "python3"
    },
    "language_info": {
      "name": "python"
    }
  },
  "nbformat": 4,
  "nbformat_minor": 0
}
